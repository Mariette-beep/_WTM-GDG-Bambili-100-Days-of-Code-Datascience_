{
  "nbformat": 4,
  "nbformat_minor": 0,
  "metadata": {
    "colab": {
      "name": "Day 1 - Introduction.ipynb",
      "provenance": [],
      "authorship_tag": "ABX9TyM9dlTtBXjxGEL2eWohkXR3",
      "include_colab_link": true
    },
    "kernelspec": {
      "name": "python3",
      "display_name": "Python 3"
    },
    "language_info": {
      "name": "python"
    }
  },
  "cells": [
    {
      "cell_type": "markdown",
      "metadata": {
        "id": "view-in-github",
        "colab_type": "text"
      },
      "source": [
        "<a href=\"https://colab.research.google.com/github/Mariette-beep/_WTM-GDG-Bambili-100-Days-of-Code-Datascience_/blob/main/Day_1_Introduction.ipynb\" target=\"_parent\"><img src=\"https://colab.research.google.com/assets/colab-badge.svg\" alt=\"Open In Colab\"/></a>"
      ]
    },
    {
      "cell_type": "code",
      "metadata": {
        "colab": {
          "base_uri": "https://localhost:8080/"
        },
        "id": "UiU5mmZ2CS5A",
        "outputId": "8ba99830-6edc-419e-ad36-e680f5495c1b"
      },
      "source": [
        "print('Hello world')"
      ],
      "execution_count": null,
      "outputs": [
        {
          "output_type": "stream",
          "text": [
            "Hello world\n"
          ],
          "name": "stdout"
        }
      ]
    },
    {
      "cell_type": "code",
      "metadata": {
        "id": "3rb9tlSLSAIl"
      },
      "source": [
        "sample_variable=None"
      ],
      "execution_count": 5,
      "outputs": []
    },
    {
      "cell_type": "code",
      "metadata": {
        "id": "amGqP2WRWM4T"
      },
      "source": [
        "#variable names that do not work.\n",
        "#7Numberofpositivecases=40  variable names can not start with figures.\n",
        "#Number of negative cases=12 variable names can only be seperated by underscores,\n",
        "#!Dangerouscases= 2 a variable can only contain alphanumeric characters and underscores,\n",
        "#Dangerous-cases= 2 variables can only be seperated by underscores.\n",
        "#+positive_cases=34  the initial character of the variable must be (a-z) or (A-Z) or an underscore.\n"
      ],
      "execution_count": 6,
      "outputs": []
    },
    {
      "cell_type": "code",
      "metadata": {
        "id": "oSFdzC33cS9A"
      },
      "source": [
        "sample_variable= 'Hello world'"
      ],
      "execution_count": 7,
      "outputs": []
    },
    {
      "cell_type": "code",
      "metadata": {
        "colab": {
          "base_uri": "https://localhost:8080/"
        },
        "id": "fKULrUd0fLYx",
        "outputId": "f98e2a42-e068-4911-8670-0071009368ec"
      },
      "source": [
        "print(sample_variable)"
      ],
      "execution_count": 8,
      "outputs": [
        {
          "output_type": "stream",
          "text": [
            "Hello world\n"
          ],
          "name": "stdout"
        }
      ]
    }
  ]
}